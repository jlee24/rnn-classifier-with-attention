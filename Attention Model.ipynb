{
 "cells": [
  {
   "cell_type": "code",
   "execution_count": 1,
   "metadata": {
    "collapsed": true
   },
   "outputs": [],
   "source": [
    "import argparse\n",
    "import os, sys\n",
    "import time\n",
    "import string\n",
    "import pprint\n",
    "import json\n",
    "\n",
    "# http://anie.me/On-Torchtext/\n",
    "import torch\n",
    "import torch.nn as nn\n",
    "import revtok\n",
    "import nltk\n",
    "import spacy\n",
    "spacy_en = spacy.load('en')\n",
    "\n",
    "from datasets import dataset_map\n",
    "from model import *\n",
    "from torchtext.vocab import GloVe\n",
    "from torchtext import data\n",
    "from torchtext.data import Field\n",
    "from torchtext.data import Iterator, BucketIterator\n",
    "\n",
    "# import matplotlib\n",
    "# matplotlib.use('Agg')\n",
    "import matplotlib.ticker as ticker\n",
    "import numpy as np\n",
    "import matplotlib.pyplot as plt\n",
    "plt.switch_backend('agg')\n",
    "%matplotlib inline"
   ]
  },
  {
   "cell_type": "code",
   "execution_count": 2,
   "metadata": {
    "collapsed": true
   },
   "outputs": [],
   "source": [
    "from torchtext.data import Field\n",
    "class SplitReversibleField(Field):\n",
    "\n",
    "    def __init__(self, **kwargs):\n",
    "        if kwargs.get('tokenize') is list:\n",
    "            self.use_revtok = False\n",
    "        else:\n",
    "            self.use_revtok = True\n",
    "        super(SplitReversibleField, self).__init__(**kwargs)\n",
    "\n",
    "    def reverse(self, batch, mode='resp'):\n",
    "        if self.use_revtok:\n",
    "            try:\n",
    "                import revtok\n",
    "            except ImportError:\n",
    "                print(\"Please install revtok.\")\n",
    "                raise\n",
    "        if mode =='resp' and not self.batch_first:\n",
    "            batch = batch.t()\n",
    "        with torch.cuda.device_of(batch):\n",
    "            batch = batch.tolist()\n",
    "        detokenized = []\n",
    "        for ex in batch:\n",
    "            if mode=='resp':\n",
    "                for ind in ex:\n",
    "                    detokenized.append(self.vocab.itos[ind])\n",
    "            else:\n",
    "                detokenized.append(self.vocab.itos[ex])\n",
    "        batch = detokenized  # denumericalize\n",
    "\n",
    "        def trim(s, t):\n",
    "            sentence = []\n",
    "            for w in s:\n",
    "                if w == t:\n",
    "                    break\n",
    "                sentence.append(w)\n",
    "            return sentence\n",
    "\n",
    "        batch = [trim(ex, self.eos_token) for ex in batch]  # trim past frst eos\n",
    "\n",
    "        def filter_special(tok):\n",
    "            return tok not in (self.init_token, self.pad_token)\n",
    "\n",
    "        batch = [filter(filter_special, ex) for ex in batch]\n",
    "        if self.use_revtok:\n",
    "            return [revtok.detokenize(ex) for ex in batch]\n",
    "        return [' '.join(ex) for ex in batch]"
   ]
  },
  {
   "cell_type": "code",
   "execution_count": 3,
   "metadata": {
    "collapsed": true
   },
   "outputs": [],
   "source": [
    "def showPlot(points):\n",
    "    plt.figure()\n",
    "    fig, ax = plt.subplots()\n",
    "    # this locator puts ticks at regular intervals\n",
    "    loc = ticker.MultipleLocator(base=0.2)\n",
    "    ax.yaxis.set_major_locator(loc)\n",
    "    plt.plot(points)\n",
    "    \n",
    "def showAttention(input_sentence, prediction, attentions):\n",
    "    # Set up figure with colorbar\n",
    "    fig = plt.figure()\n",
    "    ax = fig.add_subplot(111)\n",
    "    cax = ax.matshow(np.array(attentions).reshape(1,len(input_sentence)), vmin=0)        \n",
    "    fig.colorbar(cax)\n",
    "   \n",
    "    # Set up axes\n",
    "    ax.set_xticklabels([''] + input_sentence + ['<EOS>'], rotation=90)\n",
    "    ax.set_yticklabels([''] + [\"cluster \" + str(prediction)])\n",
    "\n",
    "    # Show label at every tick\n",
    "    ax.xaxis.set_major_locator(ticker.MultipleLocator(1))\n",
    "    ax.yaxis.set_major_locator(ticker.MultipleLocator(1))\n",
    "\n",
    "    plt.show()"
   ]
  },
  {
   "cell_type": "code",
   "execution_count": 4,
   "metadata": {
    "collapsed": true
   },
   "outputs": [],
   "source": [
    "def update_stats(accuracy, confusion_matrix, logits, y):\n",
    "  _, max_ind = torch.max(logits, 1)\n",
    "  equal = torch.eq(max_ind, y)\n",
    "  correct = int(torch.sum(equal))\n",
    "\n",
    "  for j, i in zip(max_ind, y):\n",
    "    confusion_matrix[int(i),int(j)]+=1\n",
    "\n",
    "  return accuracy + correct, confusion_matrix\n",
    "\n",
    "def train(model, data, optimizer, criterion, args):\n",
    "  model.train()\n",
    "  accuracy, confusion_matrix = 0, np.zeros((args['nlabels'], args['nlabels']), dtype=int)\n",
    "  t = time.time()\n",
    "  total_loss = 0\n",
    "  for batch_num, batch in enumerate(data):\n",
    "    model.zero_grad()\n",
    "    x = batch.Text\n",
    "    y = batch.Label\n",
    "\n",
    "    logits, _ = model(x)\n",
    "    loss = criterion(logits.view(-1, args['nlabels']), y)\n",
    "    total_loss += float(loss)\n",
    "    accuracy, confusion_matrix = update_stats(accuracy, confusion_matrix, logits, y)\n",
    "    loss.backward()\n",
    "    torch.nn.utils.clip_grad_norm_(model.parameters(), True)\n",
    "    optimizer.step()\n",
    "\n",
    "    print(\"[Batch]: {}/{} in {:.5f} seconds\".format(\n",
    "          batch_num, len(data), time.time() - t), end='\\r', flush=True)\n",
    "    t = time.time()\n",
    "\n",
    "  print()\n",
    "  print(\"[Loss]: {:.5f}\".format(total_loss / len(data)))\n",
    "  print(\"[Accuracy]: {}/{} : {:.3f}%\".format(\n",
    "        accuracy, len(data.dataset), accuracy / len(data.dataset) * 100))\n",
    "#   print(confusion_matrix)\n",
    "  return total_loss / len(data)\n",
    "\n",
    "def evaluate(model, data, optimizer, criterion, mode='Valid', resp_list=None, attentions_list=None, prediction_list=None, ids_list=None):\n",
    "  model.eval()\n",
    "  accuracy, confusion_matrix = 0, np.zeros((10, 10), dtype=int)\n",
    "  t = time.time()\n",
    "  total_loss = 0\n",
    "\n",
    "  with torch.no_grad():\n",
    "    for batch_num, batch in enumerate(data):\n",
    "      x = batch.Text\n",
    "      reversed_x = TEXT.reverse(x)\n",
    "      y = batch.Label\n",
    "      ids = POST_ID.reverse(batch.Post_Id, mode='id')\n",
    "\n",
    "      logits, attentions = model(x)\n",
    "      reversed_examples = [reversed_x[i:i+x.shape[0]] for i in range(0, len(reversed_x), x.shape[0])]\n",
    "    \n",
    "      if mode == 'Test':\n",
    "          for i,ex in enumerate(reversed_examples):\n",
    "            if '<pad>' in ex:\n",
    "                pad_start = ex.index('<pad>')\n",
    "            else:\n",
    "                pad_start = 0\n",
    "            resp_list.append(ex[:pad_start])\n",
    "            attentions_list.append(attentions.cpu().numpy()[i][0][:pad_start].reshape(1,pad_start))\n",
    "            prediction_list.append(np.argmax(logits[i]))\n",
    "            ids_list.append(ids[i])\n",
    "    \n",
    "      total_loss += float(criterion(logits.view(-1, 10), y))\n",
    "      accuracy, confusion_matrix = update_stats(accuracy, confusion_matrix, logits, y)\n",
    "      print(\"[Batch]: {}/{} in {:.5f} seconds\".format(\n",
    "            batch_num, len(data), time.time() - t), end='\\r', flush=True)\n",
    "      t = time.time()\n",
    "\n",
    "  print(\"\")\n",
    "  print(\"[{} loss]: {:.5f}\".format(type, total_loss / len(data)))\n",
    "  print(\"[{} accuracy]: {}/{} : {:.3f}%\".format(type,\n",
    "        accuracy, len(data.dataset), accuracy / len(data.dataset) * 100))\n",
    "\n",
    "  return total_loss / len(data)"
   ]
  },
  {
   "cell_type": "code",
   "execution_count": 5,
   "metadata": {
    "collapsed": false
   },
   "outputs": [],
   "source": [
    "cuda = torch.cuda.is_available()\n",
    "device = torch.device(\"cpu\") if not cuda else torch.device(\"cuda:0\")\n",
    "\n",
    "def tokenizer(text): # create a tokenizer function\n",
    "    return [tok.text for tok in spacy_en.tokenizer(text)]\n",
    "\n",
    "TEXT = SplitReversibleField(sequential=True,  tokenize=tokenizer)\n",
    "LABEL = data.Field(sequential=False, use_vocab=False)\n",
    "QUESTION = SplitReversibleField(sequential=True,  tokenize=tokenizer)\n",
    "POST_ID = SplitReversibleField(sequential=False)\n",
    "\n",
    "train_data, val_data = data.TabularDataset.splits(\n",
    "  path='./data/', train='train_real.tsv',\n",
    "  validation='val_real.tsv', format='csv', skip_header=True,\n",
    "  fields=[('Text', TEXT), ('Label', LABEL), ('Post_Id', POST_ID)])\n",
    "\n",
    "all_data = data.TabularDataset('./data/all.tsv',format='csv',skip_header=True,\n",
    "                                 fields=[('Text', TEXT), ('Label', LABEL), ('Post_Id', POST_ID)])\n",
    "\n",
    "TEXT.build_vocab(train_data, vectors=\"glove.6B.200d\")\n",
    "POST_ID.build_vocab(all_data)\n",
    "\n",
    "#  sort_key=lambda x: len(x.Text)\n",
    "val_iter = BucketIterator(val_data, 64, device=device, sort_within_batch=False,repeat=False)\n",
    "train_iter = BucketIterator(train_data, 64, device=device, sort_within_batch=False, repeat=False)"
   ]
  },
  {
   "cell_type": "code",
   "execution_count": 6,
   "metadata": {
    "collapsed": false,
    "scrolled": true
   },
   "outputs": [
    {
     "name": "stdout",
     "output_type": "stream",
     "text": [
      "Total param size: 2293010\n"
     ]
    },
    {
     "ename": "RuntimeError",
     "evalue": "torch.cuda.LongTensor is not enabled.",
     "output_type": "error",
     "traceback": [
      "\u001b[0;31m---------------------------------------------------------------------------\u001b[0m",
      "\u001b[0;31mRuntimeError\u001b[0m                              Traceback (most recent call last)",
      "\u001b[0;32m<ipython-input-6-ae6a630cd826>\u001b[0m in \u001b[0;36m<module>\u001b[0;34m()\u001b[0m\n\u001b[1;32m     28\u001b[0m \u001b[0;34m\u001b[0m\u001b[0m\n\u001b[1;32m     29\u001b[0m     \u001b[0;32mfor\u001b[0m \u001b[0mepoch\u001b[0m \u001b[0;32min\u001b[0m \u001b[0mrange\u001b[0m\u001b[0;34m(\u001b[0m\u001b[0;36m1\u001b[0m\u001b[0;34m,\u001b[0m \u001b[0margs\u001b[0m\u001b[0;34m[\u001b[0m\u001b[0;34m'epochs'\u001b[0m\u001b[0;34m]\u001b[0m \u001b[0;34m+\u001b[0m \u001b[0;36m1\u001b[0m\u001b[0;34m)\u001b[0m\u001b[0;34m:\u001b[0m\u001b[0;34m\u001b[0m\u001b[0m\n\u001b[0;32m---> 30\u001b[0;31m       \u001b[0mtrain\u001b[0m\u001b[0;34m(\u001b[0m\u001b[0mmodel\u001b[0m\u001b[0;34m,\u001b[0m \u001b[0mtrain_iter\u001b[0m\u001b[0;34m,\u001b[0m \u001b[0moptimizer\u001b[0m\u001b[0;34m,\u001b[0m \u001b[0mcriterion\u001b[0m\u001b[0;34m,\u001b[0m \u001b[0margs\u001b[0m\u001b[0;34m)\u001b[0m\u001b[0;34m\u001b[0m\u001b[0m\n\u001b[0m\u001b[1;32m     31\u001b[0m       \u001b[0mloss\u001b[0m \u001b[0;34m=\u001b[0m \u001b[0mevaluate\u001b[0m\u001b[0;34m(\u001b[0m\u001b[0mmodel\u001b[0m\u001b[0;34m,\u001b[0m \u001b[0mval_iter\u001b[0m\u001b[0;34m,\u001b[0m \u001b[0moptimizer\u001b[0m\u001b[0;34m,\u001b[0m \u001b[0mcriterion\u001b[0m\u001b[0;34m,\u001b[0m \u001b[0margs\u001b[0m\u001b[0;34m)\u001b[0m\u001b[0;34m\u001b[0m\u001b[0m\n\u001b[1;32m     32\u001b[0m \u001b[0;34m\u001b[0m\u001b[0m\n",
      "\u001b[0;32m<ipython-input-4-1ca2ee663f11>\u001b[0m in \u001b[0;36mtrain\u001b[0;34m(model, data, optimizer, criterion, args)\u001b[0m\n\u001b[1;32m     14\u001b[0m   \u001b[0mt\u001b[0m \u001b[0;34m=\u001b[0m \u001b[0mtime\u001b[0m\u001b[0;34m.\u001b[0m\u001b[0mtime\u001b[0m\u001b[0;34m(\u001b[0m\u001b[0;34m)\u001b[0m\u001b[0;34m\u001b[0m\u001b[0m\n\u001b[1;32m     15\u001b[0m   \u001b[0mtotal_loss\u001b[0m \u001b[0;34m=\u001b[0m \u001b[0;36m0\u001b[0m\u001b[0;34m\u001b[0m\u001b[0m\n\u001b[0;32m---> 16\u001b[0;31m   \u001b[0;32mfor\u001b[0m \u001b[0mbatch_num\u001b[0m\u001b[0;34m,\u001b[0m \u001b[0mbatch\u001b[0m \u001b[0;32min\u001b[0m \u001b[0menumerate\u001b[0m\u001b[0;34m(\u001b[0m\u001b[0mdata\u001b[0m\u001b[0;34m)\u001b[0m\u001b[0;34m:\u001b[0m\u001b[0;34m\u001b[0m\u001b[0m\n\u001b[0m\u001b[1;32m     17\u001b[0m     \u001b[0mmodel\u001b[0m\u001b[0;34m.\u001b[0m\u001b[0mzero_grad\u001b[0m\u001b[0;34m(\u001b[0m\u001b[0;34m)\u001b[0m\u001b[0;34m\u001b[0m\u001b[0m\n\u001b[1;32m     18\u001b[0m     \u001b[0mx\u001b[0m \u001b[0;34m=\u001b[0m \u001b[0mbatch\u001b[0m\u001b[0;34m.\u001b[0m\u001b[0mText\u001b[0m\u001b[0;34m\u001b[0m\u001b[0m\n",
      "\u001b[0;32m~/workspace/cs224u/.env3/lib/python3.6/site-packages/torchtext/data/iterator.py\u001b[0m in \u001b[0;36m__iter__\u001b[0;34m(self)\u001b[0m\n\u001b[1;32m    149\u001b[0m                         \u001b[0mminibatch\u001b[0m\u001b[0;34m.\u001b[0m\u001b[0msort\u001b[0m\u001b[0;34m(\u001b[0m\u001b[0mkey\u001b[0m\u001b[0;34m=\u001b[0m\u001b[0mself\u001b[0m\u001b[0;34m.\u001b[0m\u001b[0msort_key\u001b[0m\u001b[0;34m,\u001b[0m \u001b[0mreverse\u001b[0m\u001b[0;34m=\u001b[0m\u001b[0;32mTrue\u001b[0m\u001b[0;34m)\u001b[0m\u001b[0;34m\u001b[0m\u001b[0m\n\u001b[1;32m    150\u001b[0m                 yield Batch(minibatch, self.dataset, self.device,\n\u001b[0;32m--> 151\u001b[0;31m                             self.train)\n\u001b[0m\u001b[1;32m    152\u001b[0m             \u001b[0;32mif\u001b[0m \u001b[0;32mnot\u001b[0m \u001b[0mself\u001b[0m\u001b[0;34m.\u001b[0m\u001b[0mrepeat\u001b[0m\u001b[0;34m:\u001b[0m\u001b[0;34m\u001b[0m\u001b[0m\n\u001b[1;32m    153\u001b[0m                 \u001b[0;32mreturn\u001b[0m\u001b[0;34m\u001b[0m\u001b[0m\n",
      "\u001b[0;32m~/workspace/cs224u/.env3/lib/python3.6/site-packages/torchtext/data/batch.py\u001b[0m in \u001b[0;36m__init__\u001b[0;34m(self, data, dataset, device, train)\u001b[0m\n\u001b[1;32m     25\u001b[0m                 \u001b[0;32mif\u001b[0m \u001b[0mfield\u001b[0m \u001b[0;32mis\u001b[0m \u001b[0;32mnot\u001b[0m \u001b[0;32mNone\u001b[0m\u001b[0;34m:\u001b[0m\u001b[0;34m\u001b[0m\u001b[0m\n\u001b[1;32m     26\u001b[0m                     \u001b[0mbatch\u001b[0m \u001b[0;34m=\u001b[0m \u001b[0;34m[\u001b[0m\u001b[0mgetattr\u001b[0m\u001b[0;34m(\u001b[0m\u001b[0mx\u001b[0m\u001b[0;34m,\u001b[0m \u001b[0mname\u001b[0m\u001b[0;34m)\u001b[0m \u001b[0;32mfor\u001b[0m \u001b[0mx\u001b[0m \u001b[0;32min\u001b[0m \u001b[0mdata\u001b[0m\u001b[0;34m]\u001b[0m\u001b[0;34m\u001b[0m\u001b[0m\n\u001b[0;32m---> 27\u001b[0;31m                     \u001b[0msetattr\u001b[0m\u001b[0;34m(\u001b[0m\u001b[0mself\u001b[0m\u001b[0;34m,\u001b[0m \u001b[0mname\u001b[0m\u001b[0;34m,\u001b[0m \u001b[0mfield\u001b[0m\u001b[0;34m.\u001b[0m\u001b[0mprocess\u001b[0m\u001b[0;34m(\u001b[0m\u001b[0mbatch\u001b[0m\u001b[0;34m,\u001b[0m \u001b[0mdevice\u001b[0m\u001b[0;34m=\u001b[0m\u001b[0mdevice\u001b[0m\u001b[0;34m,\u001b[0m \u001b[0mtrain\u001b[0m\u001b[0;34m=\u001b[0m\u001b[0mtrain\u001b[0m\u001b[0;34m)\u001b[0m\u001b[0;34m)\u001b[0m\u001b[0;34m\u001b[0m\u001b[0m\n\u001b[0m\u001b[1;32m     28\u001b[0m \u001b[0;34m\u001b[0m\u001b[0m\n\u001b[1;32m     29\u001b[0m     \u001b[0;34m@\u001b[0m\u001b[0mclassmethod\u001b[0m\u001b[0;34m\u001b[0m\u001b[0m\n",
      "\u001b[0;32m~/workspace/cs224u/.env3/lib/python3.6/site-packages/torchtext/data/field.py\u001b[0m in \u001b[0;36mprocess\u001b[0;34m(self, batch, device, train)\u001b[0m\n\u001b[1;32m    186\u001b[0m         \"\"\"\n\u001b[1;32m    187\u001b[0m         \u001b[0mpadded\u001b[0m \u001b[0;34m=\u001b[0m \u001b[0mself\u001b[0m\u001b[0;34m.\u001b[0m\u001b[0mpad\u001b[0m\u001b[0;34m(\u001b[0m\u001b[0mbatch\u001b[0m\u001b[0;34m)\u001b[0m\u001b[0;34m\u001b[0m\u001b[0m\n\u001b[0;32m--> 188\u001b[0;31m         \u001b[0mtensor\u001b[0m \u001b[0;34m=\u001b[0m \u001b[0mself\u001b[0m\u001b[0;34m.\u001b[0m\u001b[0mnumericalize\u001b[0m\u001b[0;34m(\u001b[0m\u001b[0mpadded\u001b[0m\u001b[0;34m,\u001b[0m \u001b[0mdevice\u001b[0m\u001b[0;34m=\u001b[0m\u001b[0mdevice\u001b[0m\u001b[0;34m,\u001b[0m \u001b[0mtrain\u001b[0m\u001b[0;34m=\u001b[0m\u001b[0mtrain\u001b[0m\u001b[0;34m)\u001b[0m\u001b[0;34m\u001b[0m\u001b[0m\n\u001b[0m\u001b[1;32m    189\u001b[0m         \u001b[0;32mreturn\u001b[0m \u001b[0mtensor\u001b[0m\u001b[0;34m\u001b[0m\u001b[0m\n\u001b[1;32m    190\u001b[0m \u001b[0;34m\u001b[0m\u001b[0m\n",
      "\u001b[0;32m~/workspace/cs224u/.env3/lib/python3.6/site-packages/torchtext/data/field.py\u001b[0m in \u001b[0;36mnumericalize\u001b[0;34m(self, arr, device, train)\u001b[0m\n\u001b[1;32m    315\u001b[0m                 \u001b[0marr\u001b[0m \u001b[0;34m=\u001b[0m \u001b[0marr\u001b[0m\u001b[0;34m.\u001b[0m\u001b[0mcontiguous\u001b[0m\u001b[0;34m(\u001b[0m\u001b[0;34m)\u001b[0m\u001b[0;34m\u001b[0m\u001b[0m\n\u001b[1;32m    316\u001b[0m         \u001b[0;32melse\u001b[0m\u001b[0;34m:\u001b[0m\u001b[0;34m\u001b[0m\u001b[0m\n\u001b[0;32m--> 317\u001b[0;31m             \u001b[0marr\u001b[0m \u001b[0;34m=\u001b[0m \u001b[0marr\u001b[0m\u001b[0;34m.\u001b[0m\u001b[0mcuda\u001b[0m\u001b[0;34m(\u001b[0m\u001b[0mdevice\u001b[0m\u001b[0;34m)\u001b[0m\u001b[0;34m\u001b[0m\u001b[0m\n\u001b[0m\u001b[1;32m    318\u001b[0m             \u001b[0;32mif\u001b[0m \u001b[0mself\u001b[0m\u001b[0;34m.\u001b[0m\u001b[0minclude_lengths\u001b[0m\u001b[0;34m:\u001b[0m\u001b[0;34m\u001b[0m\u001b[0m\n\u001b[1;32m    319\u001b[0m                 \u001b[0mlengths\u001b[0m \u001b[0;34m=\u001b[0m \u001b[0mlengths\u001b[0m\u001b[0;34m.\u001b[0m\u001b[0mcuda\u001b[0m\u001b[0;34m(\u001b[0m\u001b[0mdevice\u001b[0m\u001b[0;34m)\u001b[0m\u001b[0;34m\u001b[0m\u001b[0m\n",
      "\u001b[0;31mRuntimeError\u001b[0m: torch.cuda.LongTensor is not enabled."
     ]
    }
   ],
   "source": [
    "args = {\n",
    "    'nlabels': 10,\n",
    "    'nlayers': 1,\n",
    "    'hidden': 300,\n",
    "    'bi': False,\n",
    "    'emsize': 200,\n",
    "    'epochs': 10,\n",
    "    'lr': 0.0005\n",
    "}\n",
    "ntokens, nlabels = len(TEXT.vocab), 10\n",
    "# args.nlabels = nlabels # hack to not clutter function arguments\n",
    "\n",
    "embedding = nn.Embedding(ntokens, args['emsize'], padding_idx=1, max_norm=1)\n",
    "# if vectors: embedding.weight.data.copy_(TEXT.vocab.vectors)\n",
    "encoder = Encoder(args['emsize'], args['hidden'], nlayers=args['nlayers'])\n",
    "\n",
    "attention_dim = args['hidden'] if not args['bi'] else 2*args['hidden']*args['hidden']\n",
    "attention = Attention(attention_dim, attention_dim, attention_dim)\n",
    "\n",
    "model = Classifier(embedding, encoder, attention, attention_dim, nlabels)\n",
    "model.to(device)\n",
    "\n",
    "criterion = nn.CrossEntropyLoss()\n",
    "optimizer = torch.optim.Adam(model.parameters(), args['lr'], amsgrad=True)\n",
    "\n",
    "try:\n",
    "    best_valid_loss = None\n",
    "\n",
    "    for epoch in range(1, args['epochs'] + 1):\n",
    "      train(model, train_iter, optimizer, criterion, args)\n",
    "      loss = evaluate(model, val_iter, optimizer, criterion, args)\n",
    "\n",
    "      if not best_valid_loss or loss < best_valid_loss:\n",
    "        best_valid_loss = loss\n",
    "except KeyboardInterrupt:\n",
    "    print(\"[Ctrl+C] Training stopped!\")        "
   ]
  },
  {
   "cell_type": "code",
   "execution_count": 7,
   "metadata": {
    "collapsed": false,
    "scrolled": true
   },
   "outputs": [
    {
     "name": "stdout",
     "output_type": "stream",
     "text": [
      "[Batch]: 59/60 in 0.03135 seconds\n",
      "[<class 'type'> loss]: 2.14071\n",
      "[<class 'type'> accuracy]: 1949/3836 : 50.808%\n"
     ]
    }
   ],
   "source": [
    "resp_list = []\n",
    "attentions_list = []\n",
    "prediction_list = []\n",
    "ids_list = []\n",
    "loss = evaluate(model, val_iter, optimizer, criterion, mode='Test', resp_list=resp_list, attentions_list=attentions_list, prediction_list=prediction_list, ids_list=ids_list)"
   ]
  },
  {
   "cell_type": "code",
   "execution_count": 8,
   "metadata": {
    "collapsed": false,
    "scrolled": true
   },
   "outputs": [
    {
     "data": {
      "text/plain": [
       "[{'id': 'BgkSu0FHBOL',\n",
       "  'attentions': [0.0014492839109152555,\n",
       "   0.0013834129786118865,\n",
       "   0.001676958054304123],\n",
       "  'resp': ['this', 'is', 'pork'],\n",
       "  'prediction': 0},\n",
       " {'id': 'BdrsvXAAJHh',\n",
       "  'attentions': [0.002321059349924326,\n",
       "   0.002753353677690029,\n",
       "   0.0033252269495278597,\n",
       "   0.004589612130075693,\n",
       "   0.00799478404223919],\n",
       "  'resp': ['night', 'market', 'in', 'phnom', 'penh'],\n",
       "  'prediction': 6},\n",
       " {'id': 'Bg9yxyGgyRC',\n",
       "  'attentions': [9.961897740140557e-05,\n",
       "   0.000103166421467904,\n",
       "   0.00010151312744710594,\n",
       "   0.00010820836178027093,\n",
       "   0.0003248398716095835,\n",
       "   0.0012972071999683976,\n",
       "   0.0025823048781603575,\n",
       "   0.00818632636219263,\n",
       "   0.015363851562142372,\n",
       "   0.020700780674815178,\n",
       "   0.024472765624523163,\n",
       "   0.03154138848185539,\n",
       "   0.03745906427502632,\n",
       "   0.044190142303705215,\n",
       "   0.04316677153110504,\n",
       "   0.04427710548043251,\n",
       "   0.047165315598249435,\n",
       "   0.049717944115400314,\n",
       "   0.04885859787464142,\n",
       "   0.05155925825238228],\n",
       "  'resp': ['that',\n",
       "   's',\n",
       "   'the',\n",
       "   'black',\n",
       "   'crowned',\n",
       "   'crane',\n",
       "   'the',\n",
       "   'lighter',\n",
       "   'ones',\n",
       "   'are',\n",
       "   'the',\n",
       "   'grey',\n",
       "   'crowned',\n",
       "   'cranes',\n",
       "   'and',\n",
       "   'they',\n",
       "   're',\n",
       "   'found',\n",
       "   'in',\n",
       "   'africa'],\n",
       "  'prediction': 9},\n",
       " {'id': 'BeoNdzrhe5y',\n",
       "  'attentions': [0.00209220708347857,\n",
       "   0.0021553693804889917,\n",
       "   0.0030705456156283617],\n",
       "  'resp': ['from', '<unk>', 'korea'],\n",
       "  'prediction': 5},\n",
       " {'id': 'BdrRNS4lZX8', 'attentions': [], 'resp': [], 'prediction': 4}]"
      ]
     },
     "execution_count": 8,
     "metadata": {},
     "output_type": "execute_result"
    }
   ],
   "source": [
    "examples_with_attention = []\n",
    "for (id_, attentions, resp, prediction) in list(zip(ids_list, attentions_list, resp_list, prediction_list)):\n",
    "    attention_results = {}    \n",
    "    attention_results['id'] = id_\n",
    "    attention_results['attentions'] = attentions[0].tolist()\n",
    "    attention_results['resp'] = resp\n",
    "    attention_results['prediction'] = int(prediction.data)\n",
    "    examples_with_attention.append(attention_results)\n",
    "    \n",
    "examples_with_attention[:5]"
   ]
  },
  {
   "cell_type": "code",
   "execution_count": 9,
   "metadata": {
    "collapsed": true
   },
   "outputs": [],
   "source": [
    "import json\n",
    "with open('examples_with_attention.json', 'w') as f:\n",
    "    json.dump(examples_with_attention, f)"
   ]
  },
  {
   "cell_type": "code",
   "execution_count": 10,
   "metadata": {
    "collapsed": true
   },
   "outputs": [],
   "source": [
    "def remove_nonascii(text):\n",
    "    return ''.join([i if ord(i) < 128 else ' ' for i in text])\n",
    "\n",
    "def clean_answer(response):\n",
    "    # Remove non-ascii characters, and username tags\n",
    "    answer = remove_nonascii(response).lower()\n",
    "    answer = answer.split(' ')\n",
    "    answer = [w for w in answer if not w.startswith('@')]\n",
    "    answer = ' '.join(answer)\n",
    "    \n",
    "    # Remove unnecessary spaces\n",
    "    answer = answer.strip()\n",
    "\n",
    "    # Remove punctuation\n",
    "    answer = answer.translate(str.maketrans('','',string.punctuation))\n",
    "    return answer"
   ]
  },
  {
   "cell_type": "code",
   "execution_count": 12,
   "metadata": {
    "collapsed": true
   },
   "outputs": [],
   "source": [
    "results = []\n",
    "fnames = ['results_g1200.json', 'results_g150.json', 'results_g1700.json', 'results_g450.json', 'results_g50.json', 'results_g50_redo.json', 'results_g750.json']\n",
    "for fname in fnames:\n",
    "    tasks = open('./' + fname).readlines()\n",
    "    for task in tasks:\n",
    "        results += json.loads(task)['output']\n",
    "    \n",
    "    results_cleaned = []\n",
    "    result_questions = []\n",
    "    result_responses = []\n",
    "    result_post_ids = []\n",
    "    for i, result in enumerate(results):\n",
    "        if \"not possible\" not in result['answer']:\n",
    "            data = result['info']\n",
    "            if '?' in data['response']: # uncertainty expressed by answer\n",
    "                continue\n",
    "\n",
    "            question = data['question']\n",
    "            response = clean_answer(data['response'])\n",
    "            result_questions.append(question)\n",
    "            result_responses.append(response)\n",
    "            result_post_ids.append(data['post_id'])\n",
    "            results_cleaned.append(result)"
   ]
  },
  {
   "cell_type": "code",
   "execution_count": 13,
   "metadata": {
    "collapsed": false
   },
   "outputs": [
    {
     "data": {
      "text/plain": [
       "[{'info': {'username': 'calinolke',\n",
       "   'url': 'https://scontent-lax3-2.cdninstagram.com/vp/1e96033c0069dcb4d0417312afb09b0a/5B61ED93/t51.2885-15/e35/28432651_1799963446967198_5783510146550333440_n.jpg',\n",
       "   'question': 'where is the sign ?',\n",
       "   'post_id': 'Bf4V4BFgpgu',\n",
       "   'pub_date': '03-03-2018',\n",
       "   'response': 'the link is in my bio or you can go to my IG page to hear a clip'},\n",
       "  'answer': 'not possible\\n',\n",
       "  'explanation': ''}]"
      ]
     },
     "execution_count": 13,
     "metadata": {},
     "output_type": "execute_result"
    }
   ],
   "source": [
    "results[:1]"
   ]
  },
  {
   "cell_type": "code",
   "execution_count": 14,
   "metadata": {
    "collapsed": false,
    "scrolled": false
   },
   "outputs": [
    {
     "name": "stdout",
     "output_type": "stream",
     "text": [
      "Question:  where are the people ?\n",
      "Human response:  night market in phnom penh\n",
      "Turker response:  ['phnom', 'penh']\n",
      "Model's response:  ['market', 'in', 'Phnom', 'Penh']\n"
     ]
    },
    {
     "data": {
      "image/png": "[encoded data removed]",
      "text/plain": [
       "<matplotlib.figure.Figure at 0x7f0b2239f358>"
      ]
     },
     "metadata": {},
     "output_type": "display_data"
    },
    {
     "name": "stdout",
     "output_type": "stream",
     "text": [
      "\n",
      "Question:  What on earth are the crumbs that are covering this watermelon?\n",
      "Human response:  and dried garlic\n",
      "Turker response:  ['dried', 'garlic']\n",
      "Model's response:  ['and', 'dried', 'garlic']\n"
     ]
    },
    {
     "data": {
      "image/png": "[encoded data removed]",
      "text/plain": [
       "<matplotlib.figure.Figure at 0x7f0b222acf60>"
      ]
     },
     "metadata": {},
     "output_type": "display_data"
    },
    {
     "name": "stdout",
     "output_type": "stream",
     "text": [
      "\n",
      "Question:  where is the light ?\n",
      "Human response:  the sin\n",
      "Turker response:  ['the', 'sin']\n",
      "Model's response:  ['the', 'sin']\n"
     ]
    },
    {
     "name": "stderr",
     "output_type": "stream",
     "text": [
      "/home/shared/anaconda3/lib/python3.6/site-packages/nltk/translate/bleu_score.py:490: UserWarning: \n",
      "Corpus/Sentence contains 0 counts of 3-gram overlaps.\n",
      "BLEU scores might be undesirable; use SmoothingFunction().\n",
      "  warnings.warn(_msg)\n"
     ]
    },
    {
     "data": {
      "image/png": "[encoded data removed]",
      "text/plain": [
       "<matplotlib.figure.Figure at 0x7f0b222acba8>"
      ]
     },
     "metadata": {},
     "output_type": "display_data"
    },
    {
     "name": "stdout",
     "output_type": "stream",
     "text": [
      "\n",
      "Question:  what is in front of the bed ?\n",
      "Human response:  thats just a vintage headboard\n",
      "Turker response:  ['a', 'vintage', 'headboard']\n",
      "Model's response:  ['that', 's', 'just', 'a', 'vintage', 'headboard']\n"
     ]
    },
    {
     "data": {
      "image/png": "[encoded data removed]",
      "text/plain": [
       "<matplotlib.figure.Figure at 0x7f0b222ac4e0>"
      ]
     },
     "metadata": {},
     "output_type": "display_data"
    },
    {
     "name": "stdout",
     "output_type": "stream",
     "text": [
      "\n",
      "Question:  what is the woman wearing ?\n",
      "Human response:  viola sell\n",
      "Turker response:  ['viola', 'sell']\n",
      "Model's response:  ['viola', 'sell']\n"
     ]
    },
    {
     "data": {
      "image/png": "[encoded data removed]",
      "text/plain": [
       "<matplotlib.figure.Figure at 0x7f0b2011ceb8>"
      ]
     },
     "metadata": {},
     "output_type": "display_data"
    },
    {
     "name": "stdout",
     "output_type": "stream",
     "text": [
      "\n",
      "Question:  where is the dog ?\n",
      "Human response:  in moscow\n",
      "Turker response:  ['moscow']\n",
      "Model's response:  ['in', 'Moscow']\n"
     ]
    },
    {
     "data": {
      "image/png": "[encoded data removed]",
      "text/plain": [
       "<matplotlib.figure.Figure at 0x7f0b2011cda0>"
      ]
     },
     "metadata": {},
     "output_type": "display_data"
    },
    {
     "name": "stdout",
     "output_type": "stream",
     "text": [
      "\n"
     ]
    },
    {
     "ename": "ValueError",
     "evalue": "'BduRjXmFzXu' is not in list",
     "output_type": "error",
     "traceback": [
      "\u001b[0;31m---------------------------------------------------------------------------\u001b[0m",
      "\u001b[0;31mValueError\u001b[0m                                Traceback (most recent call last)",
      "\u001b[0;32m<ipython-input-14-8e056f61d167>\u001b[0m in \u001b[0;36m<module>\u001b[0;34m()\u001b[0m\n\u001b[1;32m      4\u001b[0m \u001b[0;32mfor\u001b[0m \u001b[0mi\u001b[0m\u001b[0;34m,\u001b[0m \u001b[0mexample\u001b[0m \u001b[0;32min\u001b[0m \u001b[0menumerate\u001b[0m\u001b[0;34m(\u001b[0m\u001b[0mexamples_with_attention\u001b[0m\u001b[0;34m)\u001b[0m\u001b[0;34m:\u001b[0m\u001b[0;34m\u001b[0m\u001b[0m\n\u001b[1;32m      5\u001b[0m     \u001b[0mpost_id\u001b[0m \u001b[0;34m=\u001b[0m \u001b[0mexample\u001b[0m\u001b[0;34m[\u001b[0m\u001b[0;34m'id'\u001b[0m\u001b[0;34m]\u001b[0m\u001b[0;34m\u001b[0m\u001b[0m\n\u001b[0;32m----> 6\u001b[0;31m     \u001b[0mexample_idx\u001b[0m \u001b[0;34m=\u001b[0m \u001b[0mresult_post_ids\u001b[0m\u001b[0;34m.\u001b[0m\u001b[0mindex\u001b[0m\u001b[0;34m(\u001b[0m\u001b[0mpost_id\u001b[0m\u001b[0;34m)\u001b[0m\u001b[0;34m\u001b[0m\u001b[0m\n\u001b[0m\u001b[1;32m      7\u001b[0m     \u001b[0mresult\u001b[0m \u001b[0;34m=\u001b[0m \u001b[0mresults_cleaned\u001b[0m\u001b[0;34m[\u001b[0m\u001b[0mexample_idx\u001b[0m\u001b[0;34m]\u001b[0m\u001b[0;34m\u001b[0m\u001b[0m\n\u001b[1;32m      8\u001b[0m     \u001b[0mhuman\u001b[0m \u001b[0;34m=\u001b[0m \u001b[0;34m[\u001b[0m\u001b[0mword\u001b[0m\u001b[0;34m.\u001b[0m\u001b[0mlower\u001b[0m\u001b[0;34m(\u001b[0m\u001b[0;34m)\u001b[0m \u001b[0;32mfor\u001b[0m \u001b[0mword\u001b[0m \u001b[0;32min\u001b[0m \u001b[0mresult\u001b[0m\u001b[0;34m[\u001b[0m\u001b[0;34m'answer'\u001b[0m\u001b[0;34m]\u001b[0m\u001b[0;34m.\u001b[0m\u001b[0msplit\u001b[0m\u001b[0;34m(\u001b[0m\u001b[0;34m)\u001b[0m\u001b[0;34m]\u001b[0m\u001b[0;34m\u001b[0m\u001b[0m\n",
      "\u001b[0;31mValueError\u001b[0m: 'BduRjXmFzXu' is not in list"
     ]
    }
   ],
   "source": [
    "bleu2_total = 0.0\n",
    "bleu3_total = 0.0\n",
    "count = 0    \n",
    "for i, example in enumerate(examples_with_attention):\n",
    "    post_id = example['id']\n",
    "    example_idx = result_post_ids.index(post_id)\n",
    "    result = results_cleaned[example_idx]\n",
    "    human = [word.lower() for word in result['answer'].split()]\n",
    "    if \"not\" not in human and 'n/a' not in human:\n",
    "        data = result['info']\n",
    "        if '?' in data['response']: # uncertainty expressed by answer\n",
    "            continue\n",
    "        question = data['question']    \n",
    "        response = clean_answer(data['response'])\n",
    "\n",
    "        bad_human = False\n",
    "        for hword in human:\n",
    "            if hword not in response.split():\n",
    "                bad_human = True\n",
    "                break\n",
    "        if bad_human:\n",
    "            continue\n",
    "        \n",
    "        answer = []\n",
    "        tokenized_response = tokenizer(data['response'])\n",
    "        attentions = example['attentions']\n",
    "        if len(attentions) > 0 and len(attentions) == len(tokenized_response):\n",
    "            max_attn = max(attentions)\n",
    "            for i,attn in enumerate(attentions):\n",
    "                if attn >= max_attn / 3.:\n",
    "                    answer.append(tokenizer(data['response'])[i])\n",
    "            count += 1\n",
    "            print (\"Question: \", question)\n",
    "            print(\"Human response: \", response)\n",
    "            print (\"Turker response: \", human)\n",
    "            print (\"Model's response: \", answer)\n",
    "            showAttention(example['resp'], example['prediction'], attentions)\n",
    "            print()\n",
    "            bleu2 = nltk.translate.bleu_score.sentence_bleu([human], answer, weights=(1./2, 1./2))\n",
    "            bleu3 = nltk.translate.bleu_score.sentence_bleu([human], answer, weights=(1./3, 1./3, 1./3))\n",
    "            bleu2_total += bleu2\n",
    "            bleu3_total += bleu3\n",
    "\n",
    "if count == 0:\n",
    "    print(0.0 )\n",
    "else:\n",
    "    print (bleu2_total / count )\n",
    "    print (bleu3_total / count )    "
   ]
  },
  {
   "cell_type": "code",
   "execution_count": null,
   "metadata": {
    "collapsed": true
   },
   "outputs": [],
   "source": [
    "print (bleu2_total / count )\n",
    "print (bleu3_total / count )    "
   ]
  },
  {
   "cell_type": "code",
   "execution_count": null,
   "metadata": {
    "collapsed": true
   },
   "outputs": [],
   "source": []
  }
 ],
 "metadata": {
  "kernelspec": {
   "display_name": ".env3",
   "language": "python",
   "name": ".env3"
  },
  "language_info": {
   "codemirror_mode": {
    "name": "ipython",
    "version": 3
   },
   "file_extension": ".py",
   "mimetype": "text/x-python",
   "name": "python",
   "nbconvert_exporter": "python",
   "pygments_lexer": "ipython3",
   "version": "3.6.4"
  }
 },
 "nbformat": 4,
 "nbformat_minor": 2
}
